{
 "cells": [
  {
   "cell_type": "markdown",
   "id": "9047a864",
   "metadata": {},
   "source": [
    "## Первичный анализ данных"
   ]
  },
  {
   "cell_type": "code",
   "execution_count": null,
   "id": "8db17ccb",
   "metadata": {},
   "outputs": [],
   "source": [
    "import pandas as pd\n",
    "import matplotlib.pyplot as plt\n",
    "import numpy as np\n",
    "import seaborn as sns\n",
    "import warnings\n",
    "warnings.filterwarnings(\"ignore\")\n",
    "from matplotlib import pyplot, dates\n",
    "from matplotlib.ticker import FuncFormatter\n",
    "from sklearn.preprocessing import StandardScaler\n",
    "from scipy.cluster.hierarchy import dendrogram, linkage \n",
    "from sklearn import preprocessing\n",
    "from sklearn.cluster import KMeans"
   ]
  },
  {
   "cell_type": "code",
   "execution_count": null,
   "id": "e12ae08d",
   "metadata": {},
   "outputs": [],
   "source": [
    "# загруждаем датасеты\n",
    "data_march = pd.read_csv(\"C:\\\\Users\\\\marty\\\\Desktop\\\\vkus\\\\1_march.csv\", sep = ';')\n",
    "data_april = pd.read_csv(\"C:\\\\Users\\\\marty\\\\Desktop\\\\vkus\\\\1_april.csv\", sep = ';')\n",
    "data_may = pd.read_csv(\"C:\\\\Users\\\\marty\\\\Desktop\\\\vkus\\\\1_may.csv\", sep = ';')"
   ]
  },
  {
   "cell_type": "code",
   "execution_count": null,
   "id": "b8f1ab8e",
   "metadata": {},
   "outputs": [],
   "source": [
    "display(data_march.head(3))\n",
    "display(data_april.head(3))\n",
    "display(data_may.head(3))"
   ]
  },
  {
   "cell_type": "code",
   "execution_count": null,
   "id": "f915e4d4",
   "metadata": {},
   "outputs": [],
   "source": [
    "# добавим в таблицы колонку, которая отвечает за размер скидки в рублях для каждого чека \n",
    "data_march['price_down'] = data_march['Price_retail'] * data_march['Quantity'] - data_march['BasePrice'] * data_march['Quantity']\n",
    "data_april['price_down'] = data_april['Price_retail'] * data_april['Quantity'] - data_april['BasePrice'] * data_april['Quantity']\n",
    "data_may['price_down'] = data_may['Price_retail'] * data_may['Quantity'] - data_may['BasePrice'] * data_may['Quantity']\n"
   ]
  },
  {
   "cell_type": "code",
   "execution_count": null,
   "id": "f3b8d54f",
   "metadata": {},
   "outputs": [],
   "source": [
    "# сгруппируем данные по торговым точкам и чекам так, чтобы какждая строка чека содержала в себе \n",
    "# количество купленных товаров, сумму, дату, время, тип заказа\n",
    "\n",
    "# март\n",
    "data_march_pivot = data_march.groupby(['id_tt_cl', 'CheckUID', 'order_type', 'date_ch', 'time_ch']).agg({'id_tov_cl':'count', \n",
    "                                           'BaseSum':'sum', \n",
    "                                           'price_down':'sum'}).sort_values(by=['date_ch', 'time_ch'], \n",
    "                                                                                  ascending=True).reset_index()\n",
    "\n",
    "# переименуем столбцы\n",
    "data_march_pivot = data_march_pivot.rename(columns={'id_tov_cl':'count_tov_sales'}) \n",
    "\n",
    "# апрель\n",
    "data_april_pivot = data_april.groupby(['id_tt_cl', 'CheckUID', 'order_type', 'date_ch', 'time_ch']).agg({'id_tov_cl':'count', \n",
    "                                           'BaseSum':'sum', \n",
    "                                           'price_down':'sum'}).sort_values(by=['date_ch', 'time_ch'], \n",
    "                                                                                  ascending=True).reset_index()\n",
    "# переименуем столбцы\n",
    "data_april_pivot = data_april_pivot.rename(columns={'id_tov_cl':'count_tov_sales'}) \n",
    "\n",
    "\n",
    "# май \n",
    "data_may_pivot = data_may.groupby(['id_tt_cl', 'CheckUID', 'order_type', 'date_ch', 'time_ch']).agg({'id_tov_cl':'count', \n",
    "                                           'BaseSum':'sum', \n",
    "                                           'price_down':'sum'}).sort_values(by=['date_ch', 'time_ch'], \n",
    "                                                                                  ascending=True).reset_index()\n",
    "# переименуем столбцы\n",
    "data_may_pivot = data_may_pivot.rename(columns={'id_tov_cl':'count_tov_sales'}) \n"
   ]
  },
  {
   "cell_type": "code",
   "execution_count": null,
   "id": "b16bf996",
   "metadata": {},
   "outputs": [],
   "source": [
    "# проверка\n",
    "display(data_march_pivot.head(3))\n",
    "display(data_april_pivot.head(3))\n",
    "display(data_may_pivot.head(3))"
   ]
  },
  {
   "cell_type": "code",
   "execution_count": null,
   "id": "f45de59c",
   "metadata": {},
   "outputs": [],
   "source": [
    "# проверка\n",
    "display(data_march_pivot.head(3))\n",
    "display(data_april_pivot.head(3))\n",
    "display(data_may_pivot.head(3))"
   ]
  },
  {
   "cell_type": "code",
   "execution_count": null,
   "id": "079fac3a",
   "metadata": {},
   "outputs": [],
   "source": [
    "# чтобы посчитать процент онлайн и оффлайн продаж, запишем оффлайн продажи как 0, а онлайн продажи как 1    \n",
    "data_march_pivot.loc[data_march_pivot['order_type'] == 'offline', 'order_type'] = 0 \n",
    "data_march_pivot.loc[data_march_pivot['order_type'] == 'online', 'order_type'] = 1\n",
    "\n",
    "data_april_pivot.loc[data_april_pivot['order_type'] == 'offline', 'order_type'] = 0 \n",
    "data_april_pivot.loc[data_april_pivot['order_type'] == 'online', 'order_type'] = 1\n",
    "\n",
    "data_may_pivot.loc[data_may_pivot['order_type'] == 'offline', 'order_type'] = 0 \n",
    "data_may_pivot.loc[data_may_pivot['order_type'] == 'online', 'order_type'] = 1"
   ]
  },
  {
   "cell_type": "code",
   "execution_count": null,
   "id": "e568e9e8",
   "metadata": {},
   "outputs": [],
   "source": [
    "# теперь проанализируем полученные продажи по чекам за март\n",
    "data_march_tt = data_march_pivot.groupby(\"id_tt_cl\").agg({\"CheckUID\": 'nunique', 'count_tov_sales':[\"mean\", 'sum'], \n",
    "                                        'BaseSum':[\"sum\", 'mean'], 'order_type' : \"mean\", \n",
    "                                        'price_down': ['sum', 'mean']})\n",
    "                                                       \n",
    "data_march_tt.columns = data_march_tt.columns.droplevel(0)\n",
    "data_march_tt = data_march_tt.reset_index()\n",
    "\n",
    "# переименуем колонки\n",
    "data_march_tt.columns = [\"id_tt_cl\", 'CheckUID_count', 'count_tov_sales_mean', 'count_tov_sales_sum',\n",
    "                         \"BaseSum_sum\", \"BaseSum_mean\", \"percent_of_online_orders\",  \"price_down_sum\", \n",
    "                         \"price_down_mean\"] \n",
    "    \n",
    "data_april_tt = data_april_pivot.groupby(\"id_tt_cl\").agg({\"CheckUID\": 'nunique', 'count_tov_sales':[\"mean\", 'sum'], \n",
    "                                        'BaseSum':[\"sum\", 'mean'], 'order_type' : \"mean\", \n",
    "                                        'price_down': ['sum', 'mean']})\n",
    "data_april_tt.columns = data_april_tt.columns.droplevel(0)\n",
    "data_april_tt = data_april_tt.reset_index()\n",
    "\n",
    "data_april_tt.columns = [\"id_tt_cl\", 'CheckUID_count', 'count_tov_sales_mean', 'count_tov_sales_sum',\n",
    "                          \"BaseSum_sum\", \"BaseSum_mean\", \"percent_of_online_orders\",  \"price_down_sum\", \n",
    "                         \"price_down_mean\"] \n",
    "\n",
    "data_may_tt = data_may_pivot.groupby(\"id_tt_cl\").agg({\"CheckUID\": 'nunique', 'count_tov_sales':[\"mean\", 'sum'], \n",
    "                                        'BaseSum':[\"sum\", 'mean'], 'order_type' : \"mean\", \n",
    "                                        'price_down': ['sum', 'mean']})    \n",
    "\n",
    "data_may_tt.columns = data_may_tt.columns.droplevel(0)\n",
    "data_may_tt = data_may_tt.reset_index()\n",
    "\n",
    "data_may_tt.columns = [\"id_tt_cl\", 'CheckUID_count', 'count_tov_sales_mean', 'count_tov_sales_sum',\n",
    "                          \"BaseSum_sum\", \"BaseSum_mean\", \"percent_of_online_orders\",  \"price_down_sum\", \n",
    "                         \"price_down_mean\"] "
   ]
  },
  {
   "cell_type": "code",
   "execution_count": null,
   "id": "f14ca3ce",
   "metadata": {},
   "outputs": [],
   "source": [
    "# проверка\n",
    "display(data_march_tt.sample(5))\n",
    "display(data_april_tt.sample(5))\n",
    "display(data_may_tt.sample(5))"
   ]
  },
  {
   "cell_type": "markdown",
   "id": "033c8545",
   "metadata": {},
   "source": [
    "создадим графики распределния по полученным показателям"
   ]
  },
  {
   "cell_type": "code",
   "execution_count": null,
   "id": "79f34c18",
   "metadata": {},
   "outputs": [],
   "source": [
    "#общая таблица выручки по месяцам для каждой отдельной торговой точки\n",
    "data_revenue = data_march_tt[[\"id_tt_cl\", 'BaseSum_sum']].merge(\n",
    "    right = data_april_tt[[\"id_tt_cl\", 'BaseSum_sum']], on = 'id_tt_cl', how= 'left').merge(\n",
    "    right = data_may_tt[[\"id_tt_cl\", 'BaseSum_sum']], on = 'id_tt_cl', how= 'left')\n",
    "data_revenue.columns = ['id_tt_cl', 'march_total_revenue', 'april_total_revenue', 'may_total_revenue']"
   ]
  },
  {
   "cell_type": "code",
   "execution_count": null,
   "id": "981dce74",
   "metadata": {},
   "outputs": [],
   "source": [
    "#Распределение выручки по месяцам\n",
    "fig = plt.gcf()\n",
    "data_revenue['march_total_revenue'].hist(bins=15, legend=True)\n",
    "data_revenue['april_total_revenue'].hist(bins=15, alpha=0.5, legend=True)\n",
    "data_revenue['may_total_revenue'].hist(bins=15, alpha=0.3, legend=True)\n",
    "plt.title('Распределение выручки по месяцам')\n",
    "plt.xlabel('Сумма, руб.')\n",
    "plt.ylabel('Количество ТТ')\n",
    "plt.show()"
   ]
  },
  {
   "cell_type": "markdown",
   "id": "ed4a05b7",
   "metadata": {},
   "source": [
    "Создадим графики распределения по среднему чеку "
   ]
  },
  {
   "cell_type": "code",
   "execution_count": null,
   "id": "d82a8d3a",
   "metadata": {},
   "outputs": [],
   "source": [
    "#общая таблица среднего чека по месяцам для каждой отдельной торговой точки\n",
    "data_mean_check = data_march_tt[[\"id_tt_cl\", 'BaseSum_mean']].merge(\n",
    "    right = data_april_tt[[\"id_tt_cl\", 'BaseSum_mean']], on = 'id_tt_cl', how= 'left').merge(\n",
    "    right = data_may_tt[[\"id_tt_cl\", 'BaseSum_mean']], on = 'id_tt_cl', how= 'left')\n",
    "data_mean_check.columns = ['id_tt_cl', 'march_mean_check', 'april_mean_check', 'may_mean_check']"
   ]
  },
  {
   "cell_type": "code",
   "execution_count": null,
   "id": "59aa8507",
   "metadata": {},
   "outputs": [],
   "source": [
    "#Распределение по среднему чеку\n",
    "fig = plt.gcf()\n",
    "data_mean_check['march_mean_check'].hist(bins=15, legend=True)\n",
    "data_mean_check['april_mean_check'].hist(bins=15, alpha=0.5, legend=True)\n",
    "data_mean_check['may_mean_check'].hist(bins=15, alpha=0.3, legend=True)\n",
    "plt.title('Распределение стоимости среднего чека по месяцам')\n",
    "plt.xlabel('Сумма, руб.')\n",
    "plt.ylabel('Количество ТТ')\n",
    "plt.show()"
   ]
  },
  {
   "cell_type": "markdown",
   "id": "b75354bd",
   "metadata": {},
   "source": [
    "Графики распределения по количеству чеков в ТТ "
   ]
  },
  {
   "cell_type": "code",
   "execution_count": null,
   "id": "ddeb39ef",
   "metadata": {},
   "outputs": [],
   "source": [
    "#общая таблица количества чеков по месяцам для каждой отдельной торговой точки\n",
    "data_check_count = data_march_tt[[\"id_tt_cl\", 'CheckUID_count']].merge(\n",
    "    right = data_april_tt[[\"id_tt_cl\", 'CheckUID_count']], on = 'id_tt_cl', how= 'left').merge(\n",
    "    right = data_may_tt[[\"id_tt_cl\", 'CheckUID_count']], on = 'id_tt_cl', how= 'left')\n",
    "data_check_count.columns = ['id_tt_cl', 'march_check_count', 'april_check_count', 'may_check_count']"
   ]
  },
  {
   "cell_type": "code",
   "execution_count": null,
   "id": "56d55d0a",
   "metadata": {},
   "outputs": [],
   "source": [
    "#Распределение по среднему чеку\n",
    "fig = plt.gcf()\n",
    "data_check_count['march_check_count'].hist(bins=15, legend=True)\n",
    "data_check_count['april_check_count'].hist(bins=15, alpha=0.5, legend=True)\n",
    "data_check_count['may_check_count'].hist(bins=15, alpha=0.3, legend=True)\n",
    "plt.title('Распределение по количеству чеков по месяцам')\n",
    "plt.xlabel('Количество чеков, шт.')\n",
    "plt.ylabel('Количество ТТ')\n",
    "plt.show()"
   ]
  },
  {
   "cell_type": "markdown",
   "id": "eaed5ed0",
   "metadata": {},
   "source": [
    "Среднее количество товаров в чеке"
   ]
  },
  {
   "cell_type": "code",
   "execution_count": null,
   "id": "ee3e2a61",
   "metadata": {},
   "outputs": [],
   "source": [
    "data_mean_tov_count = data_march_tt[[\"id_tt_cl\", 'count_tov_sales_mean']].merge(\n",
    "    right = data_april_tt[[\"id_tt_cl\", 'count_tov_sales_mean']], on = 'id_tt_cl', how= 'left').merge(\n",
    "    right = data_may_tt[[\"id_tt_cl\", 'count_tov_sales_mean']], on = 'id_tt_cl', how= 'left')\n",
    "data_mean_tov_count.columns = ['id_tt_cl', 'march_check_count', 'april_check_count', 'may_check_count']"
   ]
  },
  {
   "cell_type": "code",
   "execution_count": null,
   "id": "233388f8",
   "metadata": {},
   "outputs": [],
   "source": [
    "#Распределение по среднему количеству товаров в чеке\n",
    "fig = plt.gcf()\n",
    "data_mean_tov_count['march_check_count'].hist(bins=15, legend=True)\n",
    "data_mean_tov_count['april_check_count'].hist(bins=15, alpha=0.5, legend=True)\n",
    "data_mean_tov_count['may_check_count'].hist(bins=15, alpha=0.3, legend=True)\n",
    "plt.title('Распределение по среднему количеству товаров в чеке по месяцам')\n",
    "plt.xlabel('Количество проданных товаров в чеке, шт.')\n",
    "plt.ylabel('Количество ТТ')\n",
    "plt.show()"
   ]
  },
  {
   "cell_type": "markdown",
   "id": "b93cb6f4",
   "metadata": {},
   "source": [
    "Общее количество проданных товаров"
   ]
  },
  {
   "cell_type": "code",
   "execution_count": null,
   "id": "f3af4d34",
   "metadata": {},
   "outputs": [],
   "source": [
    "data_count_tov_sales_sum = data_march_tt[[\"id_tt_cl\", 'count_tov_sales_sum']].merge(\n",
    "    right = data_april_tt[[\"id_tt_cl\", 'count_tov_sales_sum']], on = 'id_tt_cl', how= 'left').merge(\n",
    "    right = data_may_tt[[\"id_tt_cl\", 'count_tov_sales_sum']], on = 'id_tt_cl', how= 'left')\n",
    "data_count_tov_sales_sum.columns = ['id_tt_cl', 'march_check_count', 'april_check_count', 'may_check_count']"
   ]
  },
  {
   "cell_type": "code",
   "execution_count": null,
   "id": "afa18814",
   "metadata": {},
   "outputs": [],
   "source": [
    "#Распределение по количеству проданных товаров\n",
    "fig = plt.gcf()\n",
    "data_count_tov_sales_sum['march_check_count'].hist(bins=15, legend=True)\n",
    "data_count_tov_sales_sum['april_check_count'].hist(bins=15, alpha=0.5, legend=True)\n",
    "data_count_tov_sales_sum['may_check_count'].hist(bins=15, alpha=0.3, legend=True)\n",
    "plt.title('Общее количество проданных товаров')\n",
    "plt.xlabel('Количество проданных товаров в ТТ, шт.')\n",
    "plt.ylabel('Количество ТТ')\n",
    "plt.show()"
   ]
  },
  {
   "cell_type": "markdown",
   "id": "c0d5f3d6",
   "metadata": {},
   "source": [
    "Количество онлайн заказов по месяцам"
   ]
  },
  {
   "cell_type": "code",
   "execution_count": null,
   "id": "b23ca3cb",
   "metadata": {},
   "outputs": [],
   "source": [
    "data_online = data_march_tt[[\"id_tt_cl\", 'percent_of_online_orders']].merge(\n",
    "    right = data_april_tt[[\"id_tt_cl\", 'percent_of_online_orders']], on = 'id_tt_cl', how= 'left').merge(\n",
    "    right = data_may_tt[[\"id_tt_cl\", 'percent_of_online_orders']], on = 'id_tt_cl', how= 'left')\n",
    "data_online.columns = ['id_tt_cl', 'march_check_count', 'april_check_count', 'may_check_count'] "
   ]
  },
  {
   "cell_type": "code",
   "execution_count": null,
   "id": "704f9c25",
   "metadata": {},
   "outputs": [],
   "source": [
    "# Процент онлайн заказов по месяцам\n",
    "fig = plt.gcf()\n",
    "data_online['march_check_count'].hist(bins=15, legend=True)\n",
    "data_online['april_check_count'].hist(bins=15, alpha=0.5, legend=True)\n",
    "data_online['may_check_count'].hist(bins=15, alpha=0.3, legend=True)\n",
    "plt.title('Процент онлайн заказов по месяцам')\n",
    "plt.xlabel('Процент онлайн заказов по месяцам, %%')\n",
    "plt.ylabel('Количество ТТ')\n",
    "plt.show()"
   ]
  },
  {
   "cell_type": "markdown",
   "id": "d4c3b4ef",
   "metadata": {},
   "source": [
    "Общая сумма скидок в ТТ "
   ]
  },
  {
   "cell_type": "code",
   "execution_count": null,
   "id": "f13b6cec",
   "metadata": {},
   "outputs": [],
   "source": [
    "price_down_sum = data_march_tt[[\"id_tt_cl\", \"price_down_sum\"]].merge(\n",
    "    right = data_april_tt[[\"id_tt_cl\", 'price_down_sum']], on = 'id_tt_cl', how= 'left').merge(\n",
    "    right = data_may_tt[[\"id_tt_cl\", 'price_down_sum']], on = 'id_tt_cl', how= 'left')\n",
    "price_down_sum.columns = ['id_tt_cl', 'march_check_count', 'april_check_count', 'may_check_count'] "
   ]
  },
  {
   "cell_type": "code",
   "execution_count": null,
   "id": "612bc078",
   "metadata": {},
   "outputs": [],
   "source": [
    "# Общая сумма скидок в ТТ\n",
    "fig = plt.gcf()\n",
    "price_down_sum['march_check_count'].hist(bins=15, legend=True)\n",
    "price_down_sum['april_check_count'].hist(bins=15, alpha=0.5, legend=True)\n",
    "price_down_sum['may_check_count'].hist(bins=15, alpha=0.3, legend=True)\n",
    "plt.title('Общая сумма скидок в ТТ')\n",
    "plt.xlabel('Общая сумма скидок в ТТ, руб')\n",
    "plt.ylabel('Количество ТТ')\n",
    "plt.show()"
   ]
  },
  {
   "cell_type": "markdown",
   "id": "4010f60b",
   "metadata": {},
   "source": [
    "Средняя скидка в ТТ"
   ]
  },
  {
   "cell_type": "code",
   "execution_count": null,
   "id": "966e4267",
   "metadata": {},
   "outputs": [],
   "source": [
    "price_down_mean = data_march_tt[[\"id_tt_cl\", \"price_down_mean\"]].merge(\n",
    "    right = data_april_tt[[\"id_tt_cl\", 'price_down_mean']], on = 'id_tt_cl', how= 'left').merge(\n",
    "    right = data_may_tt[[\"id_tt_cl\", 'price_down_mean']], on = 'id_tt_cl', how= 'left')\n",
    "price_down_mean.columns = ['id_tt_cl', 'march_check_count', 'april_check_count', 'may_check_count'] "
   ]
  },
  {
   "cell_type": "code",
   "execution_count": null,
   "id": "007cc48f",
   "metadata": {},
   "outputs": [],
   "source": [
    "# Средняя скидка в ТТ\n",
    "fig = plt.gcf()\n",
    "price_down_mean['march_check_count'].hist(bins=15, legend=True)\n",
    "price_down_mean['april_check_count'].hist(bins=15, alpha=0.5, legend=True)\n",
    "price_down_mean['may_check_count'].hist(bins=15, alpha=0.3, legend=True)\n",
    "plt.title('Средняя скидка в ТТ')\n",
    "plt.xlabel('Средняя скидка в ТТ, руб')\n",
    "plt.ylabel('Количество ТТ')\n",
    "plt.show()"
   ]
  },
  {
   "cell_type": "code",
   "execution_count": null,
   "id": "925e4472",
   "metadata": {},
   "outputs": [],
   "source": [
    "#вычисляем матрицу корреляций за март\n",
    "march_cm = data_march_tt.drop('id_tt_cl', inplace= False, axis=1 )\n",
    "cm = march_cm.corr()\n",
    "plt.figure(figsize = (9,9))\n",
    "#нарисуем тепловую карту с подписями для матрицы корреляций\n",
    "sns.heatmap(cm, annot=True, square=True)\n",
    "plt.show()"
   ]
  },
  {
   "cell_type": "code",
   "execution_count": null,
   "id": "3a4e0bb5",
   "metadata": {},
   "outputs": [],
   "source": [
    "#вычисляем матрицу корреляций за апрель\n",
    "april_cm = data_april_tt.drop('id_tt_cl', inplace= False, axis=1 )\n",
    "cm = april_cm.corr()\n",
    "plt.figure(figsize = (9,9))\n",
    "#нарисуем тепловую карту с подписями для матрицы корреляций\n",
    "sns.heatmap(cm, annot=True, square=True)\n",
    "plt.show()"
   ]
  },
  {
   "cell_type": "code",
   "execution_count": null,
   "id": "92e52765",
   "metadata": {},
   "outputs": [],
   "source": [
    "#вычисляем матрицу корреляций за май\n",
    "may_cm = data_may_tt.drop('id_tt_cl', inplace= False, axis=1 )\n",
    "cm = may_cm.corr()\n",
    "plt.figure(figsize = (9,9))\n",
    "#нарисуем тепловую карту с подписями для матрицы корреляций\n",
    "sns.heatmap(cm, annot=True, square=True)\n",
    "plt.show()"
   ]
  },
  {
   "cell_type": "markdown",
   "id": "e6e21c8b",
   "metadata": {},
   "source": [
    "<b> Информация по матрице корреляций общей выручки за март с параметрами выручки: </b> \n",
    "\n",
    "Согласно матрице корреляций на сегодняшний день сильно с выручкой коррелирует: \n",
    "- Общее количество чеков \n",
    "- Общее количество проданных товаров\n",
    "- Общая сумма скидки\n",
    "\n",
    "Обратно коррелирует с выручкой: \n",
    "-  Средняя сумма скидки в магазине \n",
    "\n",
    "Не коррелирует или слабо коррелирует с выручкой: \n",
    "- Среднее количество товаров в чеке\n",
    "- Средний чек в руб.\n",
    "- Количество онлайн продаж\n",
    "\n",
    "Данные корреляции сохраняются стабильными для всех исследуемых месяцев.\n"
   ]
  },
  {
   "cell_type": "code",
   "execution_count": null,
   "id": "d284cb2c",
   "metadata": {},
   "outputs": [],
   "source": [
    "#Сводная таблица с выручкой, расчет изменений\n",
    "\n",
    "data_revenue['change_from_march_to_april'] = ((data_revenue['april_total_revenue'] - \n",
    "                                              data_revenue['march_total_revenue']) /\n",
    "                                              data_revenue['march_total_revenue'] * 100)\n",
    "data_revenue['change_from_april_to_may'] = ((data_revenue['may_total_revenue'] - data_revenue['april_total_revenue']) / data_revenue['may_total_revenue'] * 100)\n",
    "data_revenue['change_from_march_to_may'] = ((data_revenue['may_total_revenue'] - data_revenue['march_total_revenue']) / data_revenue['march_total_revenue'] * 100)"
   ]
  },
  {
   "cell_type": "code",
   "execution_count": null,
   "id": "66293ee8",
   "metadata": {},
   "outputs": [],
   "source": [
    "#Распределение изменений выручки - динамика выручки\n",
    "fig = plt.gcf()\n",
    "fig.set_size_inches(12, 4)\n",
    "plt.subplot(1, 2, 1)\n",
    "data_revenue['change_from_march_to_april'].hist(bins=84, legend=True)\n",
    "data_revenue['change_from_april_to_may'].hist(bins=84, alpha=0.5, legend=True)\n",
    "plt.title('Распределение изменения выручки март-апрель и апрель май')\n",
    "plt.xlabel('Изменение, %')\n",
    "plt.ylabel('Количество')\n",
    "plt.subplot(1, 2, 2)\n",
    "data_revenue['change_from_march_to_may'].hist(bins=84, legend=True)\n",
    "plt.title('Распределение изменения выручки за три месяца')\n",
    "plt.xlabel('Изменение, %')\n",
    "plt.ylabel('Количество')\n",
    "plt.show()"
   ]
  },
  {
   "cell_type": "code",
   "execution_count": null,
   "id": "88f0c949",
   "metadata": {},
   "outputs": [],
   "source": [
    "data_revenue['change_from_march_to_may'].quantile([0.05, 0.1, 0.25, 0.5, 0.75, 0.9, 0.95])"
   ]
  },
  {
   "cell_type": "code",
   "execution_count": null,
   "id": "761bd9b3",
   "metadata": {},
   "outputs": [],
   "source": [
    "data_revenue['change_from_april_to_may'].quantile([0.05, 0.1, 0.25, 0.5, 0.75, 0.9, 0.95])"
   ]
  },
  {
   "cell_type": "code",
   "execution_count": null,
   "id": "e0f70a28",
   "metadata": {},
   "outputs": [],
   "source": [
    "data_revenue['change_from_march_to_april'].quantile([0.05, 0.1, 0.25, 0.5, 0.75, 0.9, 0.95])"
   ]
  },
  {
   "cell_type": "markdown",
   "id": "f861e0b1",
   "metadata": {},
   "source": [
    "Создадим матрицу корреляций динамики и параметров выручки"
   ]
  },
  {
   "cell_type": "markdown",
   "id": "a0980732",
   "metadata": {},
   "source": [
    "Мартрица динамики март-апрель"
   ]
  },
  {
   "cell_type": "code",
   "execution_count": null,
   "id": "6aef3b5e",
   "metadata": {},
   "outputs": [],
   "source": [
    "# пришьем к таблице по апрелю динамику выручки в процентах\n",
    "data_change_from_march_to_april = data_april_tt.merge(data_revenue[['id_tt_cl', 'change_from_march_to_april']],\n",
    "                                                      on = 'id_tt_cl')\n",
    "# вычтем из месяца апрель месяц март\n",
    "data_march_tt[\"change_from_march_to_april\"] = 0\n",
    "data_change_from_march_to_april = data_change_from_march_to_april.subtract(data_march_tt, fill_value=None) "
   ]
  },
  {
   "cell_type": "code",
   "execution_count": null,
   "id": "dac5a445",
   "metadata": {},
   "outputs": [],
   "source": [
    "#вычисляем матрицу корреляций с динамикой за март-апрель\n",
    "data_change_from_march_to_april_cm = data_change_from_march_to_april.drop('id_tt_cl', inplace= False, axis=1 ) \n",
    "cm = data_change_from_march_to_april_cm.corr()\n",
    "plt.figure(figsize = (9,9))\n",
    "#нарисуем тепловую карту с подписями для матрицы корреляций\n",
    "sns.heatmap(cm, annot=True, square=True)\n",
    "plt.show()"
   ]
  },
  {
   "cell_type": "code",
   "execution_count": null,
   "id": "9bc4aae5",
   "metadata": {},
   "outputs": [],
   "source": [
    "# уберем лишний столбец из нужной нам таблицы \n",
    "data_march_tt = data_march_tt.drop(\"change_from_march_to_april\", inplace= False, axis=1 )\n",
    "# data_march_tt"
   ]
  },
  {
   "cell_type": "markdown",
   "id": "a29e4a71",
   "metadata": {},
   "source": [
    "Матрица динамиики апрель-май"
   ]
  },
  {
   "cell_type": "code",
   "execution_count": null,
   "id": "3bc1ecbd",
   "metadata": {},
   "outputs": [],
   "source": [
    "# пришьем к таблице по апрелю динамику выручки в процентах\n",
    "data_change_from_april_to_may = data_may_tt.merge(data_revenue[['id_tt_cl', 'change_from_april_to_may']],\n",
    "                                                      on = 'id_tt_cl')\n",
    "# вычтем из месяца апрель месяц март\n",
    "data_april_tt[\"change_from_april_to_may\"] = 0\n",
    "data_change_april_to_may = data_change_from_april_to_may.subtract(data_april_tt, fill_value=None) "
   ]
  },
  {
   "cell_type": "code",
   "execution_count": null,
   "id": "55c0742c",
   "metadata": {},
   "outputs": [],
   "source": [
    "#вычисляем матрицу корреляций с динамикой за апрель-май\n",
    "data_change_april_to_may_cm = data_change_april_to_may.drop('id_tt_cl', inplace= False, axis=1 ) \n",
    "cm = data_change_april_to_may_cm.corr()\n",
    "plt.figure(figsize = (9,9))\n",
    "#нарисуем тепловую карту с подписями для матрицы корреляций\n",
    "sns.heatmap(cm, annot=True, square=True)\n",
    "plt.show()"
   ]
  },
  {
   "cell_type": "markdown",
   "id": "18b8992e",
   "metadata": {},
   "source": [
    "<b> Информация по динамике выручки: </b> \n",
    "Графики динамики выручки представляют собой нормальное распределение. Мы можем заметить, что с марта по апрель у нас большая часть магазинов (на медианной величине) показала отрицательную динамику выручки, но уже с апреля по мая вернулась к положительной динамике (на медианной величине). Такое распределение может свидетельствовать о значительном факторе нормального (случайного) колебания динамики выручки для многих ТТ. \n",
    "В первой матрице динамика март-апрель не показывает наличие корреляций. Динамика выручки апрель-май отражает общие корреляции, уже выделенные для выручки в общем. "
   ]
  },
  {
   "cell_type": "code",
   "execution_count": null,
   "id": "ae4c2bc5",
   "metadata": {},
   "outputs": [],
   "source": [
    "# удалим лишние столбцы, созданные для того, чтобы рассчитать матрицу корреляций\n",
    "data_april_tt = data_april_tt.drop('change_from_april_to_may', inplace= False, axis=1) "
   ]
  },
  {
   "cell_type": "markdown",
   "id": "d182edb2",
   "metadata": {},
   "source": [
    "Разделим торговые точки на магазины похожего формата"
   ]
  },
  {
   "cell_type": "code",
   "execution_count": null,
   "id": "04008fb1",
   "metadata": {},
   "outputs": [],
   "source": [
    "data_revenue.columns = ['id_tt', 'march_total_revenue', 'april_total_revenue', \n",
    "                        'may_total_revenue', 'change_from_march_to_april', 'change_from_april_to_may',\n",
    "                        'change_from_march_to_may']"
   ]
  },
  {
   "cell_type": "code",
   "execution_count": null,
   "id": "aa82b69e",
   "metadata": {},
   "outputs": [],
   "source": [
    "data_zao = pd.read_csv(\"C:\\\\Users\\\\marty\\\\Desktop\\\\vkus\\\\zao_info.csv\", sep = ';')"
   ]
  },
  {
   "cell_type": "code",
   "execution_count": null,
   "id": "5168218d",
   "metadata": {},
   "outputs": [],
   "source": [
    "data_zao = data_zao.merge(data_revenue, on = 'id_tt')"
   ]
  },
  {
   "cell_type": "code",
   "execution_count": null,
   "id": "3f620a2c",
   "metadata": {},
   "outputs": [],
   "source": [
    "#data_zao_standard = data_zao.drop(['id_tt', 'adress', 'Shirota', 'city_tt', 'Dolgota'], inplace= False, axis=1 )"
   ]
  },
  {
   "cell_type": "code",
   "execution_count": null,
   "id": "4a9f61c0",
   "metadata": {},
   "outputs": [],
   "source": [
    "#le = preprocessing.LabelEncoder()\n",
    "#data_zao_standard['Район'] = le.fit_transform(data_zao_standard['Район'])\n",
    "#data_zao_standard['Hours'] = le.fit_transform(data_zao_standard['Hours'])\n",
    "#data_zao_standard['format'] = le.fit_transform(data_zao_standard['format'])"
   ]
  },
  {
   "cell_type": "code",
   "execution_count": null,
   "id": "082cdd0a",
   "metadata": {},
   "outputs": [],
   "source": [
    "# стандартизируем данные\n",
    "#sc = StandardScaler()\n",
    "#X_sc = sc.fit_transform(data_zao_standard)\n",
    "#linked = linkage(X_sc, method = 'ward')\n",
    "#plt.figure(figsize=(15, 10))  \n",
    "#dendrogram(linked, orientation='top')\n",
    "#plt.title('Hierarchial clustering for GYM')\n",
    "#plt.show() "
   ]
  },
  {
   "cell_type": "code",
   "execution_count": null,
   "id": "b7a3bb6b",
   "metadata": {},
   "outputs": [],
   "source": [
    "def show_clusters_on_plot(df, x_name, y_name, cluster_name):\n",
    "    plt.figure(figsize=(5, 5))\n",
    "    sns.scatterplot(\n",
    "        df[x_name], df[y_name], hue=df[cluster_name], palette='deep'\n",
    "    )\n",
    "    plt.title('{} vs {}'.format(x_name, y_name))\n",
    "    plt.show()"
   ]
  },
  {
   "cell_type": "code",
   "execution_count": null,
   "id": "93369ee7",
   "metadata": {},
   "outputs": [],
   "source": [
    "#km = KMeans(n_clusters = 3, random_state=0)\n",
    "#labels = km.fit_predict(X_sc)\n",
    "#data_zao_standard['cluster_km'] = labels\n",
    "#data_zao_standard.groupby(['cluster_km']).mean()"
   ]
  },
  {
   "cell_type": "markdown",
   "id": "6c79c9ce",
   "metadata": {},
   "source": [
    "Провести класстеризацию не удалось. И с выручкой, и без выручки класстеризация показывает странное разделение магазинов. Необходимо провести разделение магазинов на типы/форматы вручную. Сделать это лучше исходя из площади. "
   ]
  },
  {
   "cell_type": "code",
   "execution_count": null,
   "id": "b5798223",
   "metadata": {},
   "outputs": [],
   "source": [
    "data_zao"
   ]
  },
  {
   "cell_type": "code",
   "execution_count": null,
   "id": "8d72bb4d",
   "metadata": {},
   "outputs": [],
   "source": [
    "data_zao['ploshad'].hist(bins = 84)"
   ]
  },
  {
   "cell_type": "code",
   "execution_count": null,
   "id": "a91138e9",
   "metadata": {},
   "outputs": [],
   "source": [
    "data_zao['ploshad'].quantile([0.05, 0.1, 0.25, 0.5, 0.75, 0.9, 0.95])"
   ]
  },
  {
   "cell_type": "code",
   "execution_count": null,
   "id": "02e9e57e",
   "metadata": {},
   "outputs": [],
   "source": [
    "data_zao['ploshad'].min()"
   ]
  },
  {
   "cell_type": "code",
   "execution_count": null,
   "id": "969d9756",
   "metadata": {},
   "outputs": [],
   "source": [
    "data_zao['ploshad'].max()"
   ]
  },
  {
   "cell_type": "code",
   "execution_count": null,
   "id": "195cf7a1",
   "metadata": {},
   "outputs": [],
   "source": [
    "data_zao.loc[data_zao['ploshad'] > 119.275, 'ploshad_type'] = 'middle' \n",
    "data_zao.loc[data_zao['ploshad'] <= 119.275, 'ploshad_type'] = 'small' \n",
    "data_zao.loc[data_zao['ploshad'] >= 200, 'ploshad_type'] = 'big' "
   ]
  },
  {
   "cell_type": "markdown",
   "id": "4f45db86",
   "metadata": {},
   "source": [
    "\n",
    "Найдем магазины в одном районе с одним форматом, рассмотрим их выручку. "
   ]
  },
  {
   "cell_type": "code",
   "execution_count": null,
   "id": "3bbe9656",
   "metadata": {},
   "outputs": [],
   "source": [
    "def searching_shop (data, region, ploshad_type):\n",
    "    result = []\n",
    "    for index, row in data.iterrows():\n",
    "        if row['Район'] == region and row['ploshad_type'] == ploshad_type:\n",
    "            result.append(row['id_tt'])\n",
    "    if len(set(result)) > 1: \n",
    "        print('ID магазинов размера', ploshad_type, 'в регионе', region, ':', result)\n",
    "        display(data_zao.query('id_tt in @result'))   "
   ]
  },
  {
   "cell_type": "code",
   "execution_count": null,
   "id": "807f4281",
   "metadata": {
    "scrolled": true
   },
   "outputs": [],
   "source": [
    "for ploshad_type in data_zao['ploshad_type'].unique() :\n",
    "    for region in data_zao['Район'].unique():\n",
    "        searching_shop(data_zao, region, ploshad_type)"
   ]
  },
  {
   "cell_type": "markdown",
   "id": "f98c4a55",
   "metadata": {},
   "source": [
    "плохой: 11309, 13342, 11662, 12326, 12481, 11980, 11888, 12004, 12834, 13429, 15970, 12299"
   ]
  },
  {
   "cell_type": "markdown",
   "id": "2f72ac7a",
   "metadata": {},
   "source": [
    "хороший: 10778, 11634, 11458, 11673, 14030, 11958, 12084, 12192, 12192, 12938, 10786, 16130"
   ]
  },
  {
   "cell_type": "code",
   "execution_count": null,
   "id": "235484a5",
   "metadata": {},
   "outputs": [],
   "source": [
    "data_ost = pd.read_csv(\"C:\\\\Users\\\\marty\\\\Desktop\\\\vkus\\\\1_ost.csv\", sep = ';')"
   ]
  },
  {
   "cell_type": "code",
   "execution_count": null,
   "id": "b61134bc",
   "metadata": {},
   "outputs": [],
   "source": [
    "data_ost"
   ]
  },
  {
   "cell_type": "markdown",
   "id": "7970b566",
   "metadata": {},
   "source": [
    "##  Проверка гипотез "
   ]
  },
  {
   "cell_type": "markdown",
   "id": "4ca50f4a",
   "metadata": {},
   "source": [
    "Обратите внимание, что первым должно даваться в функцию число, которое отражает id \"плохого\" магазина с низкой выручкой, второе число отражает id \"хорошего\" магазина с высокой выручки. Сравнение проводиться по магазинам одинакового формата. Так мы найдем ассортимент, который есть в хороших магазинах, но нет в плохих.\n",
    "Если же сначала в функцию запишем хороший магазин, а затем плохой, найдем, какие товары есть в плохих магазинах, каких нет в хороших. "
   ]
  },
  {
   "cell_type": "code",
   "execution_count": null,
   "id": "369608cf",
   "metadata": {},
   "outputs": [],
   "source": [
    "data_march.columns = ['CheckUID', 'id_tt', 'id_tov', 'Price_retail', 'Quantity', 'BasePrice', 'BaseSum', 'date_ch', 'time_ch', 'order_type', \n",
    "                      'price_down']\n",
    "\n",
    "data_april.columns = ['CheckUID', 'id_tt', 'id_tov', 'Price_retail', 'Quantity', 'BasePrice', 'BaseSum', 'date_ch', 'time_ch', 'order_type', \n",
    "                      'price_down'] \n",
    "\n",
    "data_may.columns = ['CheckUID', 'id_tt', 'id_tov', 'Price_retail', 'Quantity', 'BasePrice', 'BaseSum', 'date_ch', 'time_ch', 'order_type', \n",
    "                      'price_down'] "
   ]
  },
  {
   "cell_type": "code",
   "execution_count": null,
   "id": "d7367038",
   "metadata": {},
   "outputs": [],
   "source": [
    "def find_difference(id_first_bad, id_second_good): \n",
    "    bad_one = data_ost[data_ost['id_tt'] == id_first_bad][['id_tt','id_tov','name_tov']]\n",
    "    good_one = data_ost[data_ost['id_tt'] == id_second_good][['id_tt','id_tov','name_tov']]\n",
    "    difference = good_one[~good_one['name_tov'].isin(bad_one['name_tov'])]\n",
    "    difference = difference.drop_duplicates(subset=[\"name_tov\"])\n",
    "    cheсks = data_april[data_april['id_tt'] == id_second_good][['id_tov', 'Quantity']]\n",
    "    cheсks = cheсks.merge(difference, on = ['id_tov'], how = 'right')\n",
    "    ckeck_new = cheсks.groupby('name_tov').agg({'Quantity':'sum'}).reset_index().sort_values(by = 'Quantity', ascending = False).head(20)\n",
    "    ckeck_new.plot(x = 'name_tov', y = 'Quantity', kind = 'bar', figsize = (12,6))"
   ]
  },
  {
   "cell_type": "code",
   "execution_count": null,
   "id": "04ffa2ad",
   "metadata": {},
   "outputs": [],
   "source": [
    "#find_difference(10778, 11309)"
   ]
  },
  {
   "cell_type": "code",
   "execution_count": null,
   "id": "1bc9f084",
   "metadata": {},
   "outputs": [],
   "source": [
    "#find_difference(13342, 11634)"
   ]
  },
  {
   "cell_type": "code",
   "execution_count": null,
   "id": "60099b9b",
   "metadata": {},
   "outputs": [],
   "source": [
    "#find_difference(12338, 11777)"
   ]
  },
  {
   "cell_type": "code",
   "execution_count": null,
   "id": "5b728866",
   "metadata": {},
   "outputs": [],
   "source": [
    "#find_difference(11420, 11103)"
   ]
  },
  {
   "cell_type": "code",
   "execution_count": null,
   "id": "dd293703",
   "metadata": {},
   "outputs": [],
   "source": [
    "#find_difference(11662, 11458)"
   ]
  },
  {
   "cell_type": "code",
   "execution_count": null,
   "id": "5139f10b",
   "metadata": {},
   "outputs": [],
   "source": [
    "#find_difference(12481, 11783)"
   ]
  },
  {
   "cell_type": "code",
   "execution_count": null,
   "id": "97f7e419",
   "metadata": {},
   "outputs": [],
   "source": [
    "#find_difference(12518, 12025)"
   ]
  },
  {
   "cell_type": "code",
   "execution_count": null,
   "id": "81d46551",
   "metadata": {},
   "outputs": [],
   "source": [
    "#find_difference(13316, 11901)"
   ]
  },
  {
   "cell_type": "code",
   "execution_count": null,
   "id": "cbc292f7",
   "metadata": {},
   "outputs": [],
   "source": [
    "#find_difference(12481, 14030)"
   ]
  },
  {
   "cell_type": "markdown",
   "id": "5f007e4e",
   "metadata": {},
   "source": [
    "плохой: 11309, 13342, 11662, 12326, 12481, 11980, 11888, 12004, 12834, 13429, 15970, 12299"
   ]
  },
  {
   "cell_type": "markdown",
   "id": "5cc3e690",
   "metadata": {},
   "source": [
    "хороший: 10778, 11634, 11458, 11673, 14030, 11958, 12084, 12192, 12192, 12938, 10786, 16130"
   ]
  },
  {
   "cell_type": "code",
   "execution_count": null,
   "id": "dd0942d1",
   "metadata": {},
   "outputs": [],
   "source": [
    "bad_types = [11309, 13342, 11662, 12326, 12481, 11980, 11888, 12004, 12834, 13429, 15970, 12299]"
   ]
  },
  {
   "cell_type": "code",
   "execution_count": null,
   "id": "e2e9a716",
   "metadata": {},
   "outputs": [],
   "source": [
    "good_types = [10778, 11634, 11458, 11673, 14030, 11958, 12084, 12192, 12192, 12938, 10786, 16130]"
   ]
  },
  {
   "cell_type": "markdown",
   "id": "1938d6c8",
   "metadata": {},
   "source": [
    "<b> Март </b>"
   ]
  },
  {
   "cell_type": "code",
   "execution_count": null,
   "id": "6a96cc89",
   "metadata": {},
   "outputs": [],
   "source": [
    "bad_types_stores = data_ost[data_ost['id_tt'].isin(bad_types)][['id_tt','id_tov','name_tov']]\n",
    "good_types_stores = data_ost[data_ost['id_tt'].isin(good_types)][['id_tt','id_tov','name_tov']]\n",
    "difference = good_types_stores[~good_types_stores['name_tov'].isin(bad_types_stores['name_tov'])]\n",
    "\n",
    "\n",
    "cheсks = data_march[data_march['id_tt'].isin(good_types)][['id_tov', 'Quantity']]\n",
    "cheсks = cheсks.merge(difference, on = ['id_tov'], how = 'right')\n",
    "check_new = cheсks.groupby('name_tov').agg({'Quantity':'sum'}).reset_index().sort_values(\n",
    "    by = 'Quantity', ascending = False)\n",
    "check_new.head(30).plot(x = 'name_tov', y = 'Quantity', kind = 'bar', figsize = (10,5))"
   ]
  },
  {
   "cell_type": "markdown",
   "id": "4551942a",
   "metadata": {},
   "source": [
    "<b> Апрель </b>"
   ]
  },
  {
   "cell_type": "code",
   "execution_count": null,
   "id": "e2fb1a30",
   "metadata": {},
   "outputs": [],
   "source": [
    "bad_types_stores = data_ost[data_ost['id_tt'].isin(bad_types)][['id_tt','id_tov','name_tov']]\n",
    "good_types_stores = data_ost[data_ost['id_tt'].isin(good_types)][['id_tt','id_tov','name_tov']]\n",
    "difference = good_types_stores[~good_types_stores['name_tov'].isin(bad_types_stores['name_tov'])]\n",
    "\n",
    "\n",
    "cheсks = data_april[data_april['id_tt'].isin(good_types)][['id_tov', 'Quantity']]\n",
    "cheсks = cheсks.merge(difference, on = ['id_tov'], how = 'right')\n",
    "check_new = cheсks.groupby('name_tov').agg({'Quantity':'sum'}).reset_index().sort_values(\n",
    "    by = 'Quantity', ascending = False)\n",
    "check_new.head(30).plot(x = 'name_tov', y = 'Quantity', kind = 'bar', figsize = (10,5))"
   ]
  },
  {
   "cell_type": "markdown",
   "id": "4104b5d3",
   "metadata": {},
   "source": [
    "<b> Май </b>"
   ]
  },
  {
   "cell_type": "code",
   "execution_count": null,
   "id": "a3f60264",
   "metadata": {},
   "outputs": [],
   "source": [
    "bad_types_stores = data_ost[data_ost['id_tt'].isin(bad_types)][['id_tt','id_tov','name_tov']]\n",
    "good_types_stores = data_ost[data_ost['id_tt'].isin(good_types)][['id_tt','id_tov','name_tov']]\n",
    "difference = good_types_stores[~good_types_stores['name_tov'].isin(bad_types_stores['name_tov'])]\n",
    "\n",
    "\n",
    "cheсks = data_may[data_may['id_tt'].isin(good_types)][['id_tov', 'Quantity']]\n",
    "cheсks = cheсks.merge(difference, on = ['id_tov'], how = 'right')\n",
    "check_new = cheсks.groupby('name_tov').agg({'Quantity':'sum'}).reset_index().sort_values(\n",
    "    by = 'Quantity', ascending = False)\n",
    "check_new.head(30).plot(x = 'name_tov', y = 'Quantity', kind = 'bar', figsize = (10,5))"
   ]
  },
  {
   "cell_type": "code",
   "execution_count": null,
   "id": "6e1e6c9a",
   "metadata": {},
   "outputs": [],
   "source": [
    "difference.head(3)"
   ]
  },
  {
   "cell_type": "code",
   "execution_count": null,
   "id": "492fbf9d",
   "metadata": {},
   "outputs": [],
   "source": []
  },
  {
   "cell_type": "code",
   "execution_count": null,
   "id": "cdd3cb22",
   "metadata": {},
   "outputs": [],
   "source": [
    "data_march = pd.read_csv(\"C:\\\\Users\\\\marty\\\\Desktop\\\\vkus\\\\1_march.csv\", sep = ';')"
   ]
  },
  {
   "cell_type": "markdown",
   "id": "836a3b0d",
   "metadata": {},
   "source": []
  },
  {
   "cell_type": "code",
   "execution_count": null,
   "id": "ce5a8bb1",
   "metadata": {},
   "outputs": [],
   "source": [
    "projects_for_TT = pd.read_csv(\"C:\\\\Users\\\\marty\\\\Desktop\\\\vkus\\\\projects_for_TT.csv\", sep = ';')"
   ]
  },
  {
   "cell_type": "code",
   "execution_count": null,
   "id": "b7283a33",
   "metadata": {},
   "outputs": [],
   "source": [
    "bad_stores_projects = projects_for_TT[projects_for_TT['id_TT'].isin(bad_types_stores['id_tt'])]"
   ]
  },
  {
   "cell_type": "code",
   "execution_count": null,
   "id": "311acecc",
   "metadata": {},
   "outputs": [],
   "source": [
    "good_stores_projects = projects_for_TT[projects_for_TT['id_TT'].isin(good_types_stores['id_tt'])]"
   ]
  },
  {
   "cell_type": "code",
   "execution_count": null,
   "id": "3af24623",
   "metadata": {
    "scrolled": true
   },
   "outputs": [],
   "source": [
    "projects_for_TT.columns = ['id_tt', 'project_name']\n",
    "projects_for_TT"
   ]
  },
  {
   "cell_type": "code",
   "execution_count": null,
   "id": "87039ad8",
   "metadata": {},
   "outputs": [],
   "source": [
    "march_corr_projects = data_zao[['id_tt', 'ploshad', 'march_total_revenue']].merge(projects_for_TT, on = 'id_tt')"
   ]
  },
  {
   "cell_type": "code",
   "execution_count": null,
   "id": "300908d8",
   "metadata": {
    "scrolled": true
   },
   "outputs": [],
   "source": [
    "march_corr_projects['rub_on_meter'] = march_corr_projects['march_total_revenue']/march_corr_projects['ploshad']"
   ]
  },
  {
   "cell_type": "code",
   "execution_count": null,
   "id": "cf3b0e4b",
   "metadata": {},
   "outputs": [],
   "source": [
    "#вычисляем матрицу корреляций с динамикой за март-апрель\n",
    "#cm = march_corr_projects.corr()\n",
    "#plt.figure(figsize = (9,9))\n",
    "#нарисуем тепловую карту с подписями для матрицы корреляций\n",
    "#sns.heatmap(cm, annot=True, square=True)\n",
    "#plt.show()"
   ]
  },
  {
   "cell_type": "code",
   "execution_count": null,
   "id": "d8d50d2d",
   "metadata": {},
   "outputs": [],
   "source": [
    "march_corr_projects['coffe'] = np.where(march_corr_projects['project_name'] == 'Кофе с собой', True, False)\n",
    "march_corr_projects['sokomat'] = np.where(march_corr_projects['project_name'] == 'Сокомат', True, False)\n",
    "march_corr_projects['bez_upakovky'] = np.where(march_corr_projects['project_name'] == 'Отдел без упаковки', True, False)\n",
    "march_corr_projects['rybnaya_vitrina'] = np.where(march_corr_projects['project_name'] == 'Рыбная витрина', True, False)\n",
    "march_corr_projects['kafe-pekarnya'] = np.where(march_corr_projects['project_name'] == 'Кафе-Пекарня', True, False)\n",
    "march_corr_projects['myasnaya_vitrina'] = np.where(march_corr_projects['project_name'] == 'Мясная витрина', True, False)"
   ]
  },
  {
   "cell_type": "code",
   "execution_count": null,
   "id": "339f8b39",
   "metadata": {},
   "outputs": [],
   "source": [
    "march_corr_projects"
   ]
  },
  {
   "cell_type": "code",
   "execution_count": null,
   "id": "de0803e3",
   "metadata": {},
   "outputs": [],
   "source": [
    "#вычисляем матрицу корреляций с динамикой за март-апрель\n",
    "cm = march_corr_projects.corr()\n",
    "plt.figure(figsize = (9,9))\n",
    "#нарисуем тепловую карту с подписями для матрицы корреляций\n",
    "sns.heatmap(cm, annot=True, square=True)\n",
    "plt.show()"
   ]
  },
  {
   "cell_type": "code",
   "execution_count": null,
   "id": "67359111",
   "metadata": {},
   "outputs": [],
   "source": [
    "data_march_tt.head(3)"
   ]
  },
  {
   "cell_type": "code",
   "execution_count": null,
   "id": "c77d0e26",
   "metadata": {},
   "outputs": [],
   "source": [
    "good_types_stores = data_march_tt[data_march_tt['id_tt_cl'].isin(good_types)]"
   ]
  },
  {
   "cell_type": "code",
   "execution_count": null,
   "id": "d0fde092",
   "metadata": {},
   "outputs": [],
   "source": [
    "good_types_stores['price_down_mean'].describe()"
   ]
  },
  {
   "cell_type": "code",
   "execution_count": null,
   "id": "9c3e852f",
   "metadata": {},
   "outputs": [],
   "source": [
    "bad_types_stores = data_march_tt[data_march_tt['id_tt_cl'].isin(bad_types)]"
   ]
  },
  {
   "cell_type": "code",
   "execution_count": null,
   "id": "4b86d513",
   "metadata": {},
   "outputs": [],
   "source": [
    "bad_types_stores['price_down_mean'].describe()"
   ]
  },
  {
   "cell_type": "code",
   "execution_count": null,
   "id": "dc2132a2",
   "metadata": {},
   "outputs": [],
   "source": [
    "good_types_stores['price_down_sum'].describe()"
   ]
  },
  {
   "cell_type": "code",
   "execution_count": null,
   "id": "0a9042b6",
   "metadata": {
    "scrolled": true
   },
   "outputs": [],
   "source": [
    "bad_types_stores"
   ]
  },
  {
   "cell_type": "code",
   "execution_count": null,
   "id": "0e06b847",
   "metadata": {},
   "outputs": [],
   "source": [
    "good_types_stores"
   ]
  },
  {
   "cell_type": "code",
   "execution_count": null,
   "id": "2f9aacb2",
   "metadata": {
    "scrolled": true
   },
   "outputs": [],
   "source": [
    "bad_types_stores['price_down_sum'].describe()"
   ]
  },
  {
   "cell_type": "code",
   "execution_count": null,
   "id": "e3bf1075",
   "metadata": {},
   "outputs": [],
   "source": [
    "good_types_stores_score = good_types_stores[['id_tt_cl', 'BaseSum_sum']]\n",
    "bad_types_stores_score = bad_types_stores[['id_tt_cl', 'BaseSum_sum']]"
   ]
  },
  {
   "cell_type": "code",
   "execution_count": null,
   "id": "30bf1ac3",
   "metadata": {},
   "outputs": [],
   "source": [
    "pd.set_option(\"display.max_colwidth\", -1)\n",
    "data_zao[data_zao['id_tt'] == 16130]"
   ]
  },
  {
   "cell_type": "code",
   "execution_count": null,
   "id": "27f87622",
   "metadata": {},
   "outputs": [],
   "source": [
    "good_types_stores_score['score'] = 0\n",
    "good_types_stores_score.loc[good_types_stores_score['id_tt_cl'] == 10778, 'score'] = 4.5\n",
    "good_types_stores_score.loc[good_types_stores_score['id_tt_cl'] == 10786, 'score'] = 4.4\n",
    "good_types_stores_score.loc[good_types_stores_score['id_tt_cl'] == 11458, 'score'] = 4.5\n",
    "good_types_stores_score.loc[good_types_stores_score['id_tt_cl'] == 11634, 'score'] = np.nan\n",
    "good_types_stores_score.loc[good_types_stores_score['id_tt_cl'] == 11673, 'score'] = 4.4\n",
    "good_types_stores_score.loc[good_types_stores_score['id_tt_cl'] == 11958, 'score'] = 4.7\n",
    "good_types_stores_score.loc[good_types_stores_score['id_tt_cl'] == 12084, 'score'] = 4.8\n",
    "good_types_stores_score.loc[good_types_stores_score['id_tt_cl'] == 12192, 'score'] = 4.6\n",
    "good_types_stores_score.loc[good_types_stores_score['id_tt_cl'] == 12938, 'score'] = 4.7\n",
    "good_types_stores_score.loc[good_types_stores_score['id_tt_cl'] == 14030, 'score'] = np.nan\n",
    "good_types_stores_score.loc[good_types_stores_score['id_tt_cl'] == 16130, 'score'] = np.nan"
   ]
  },
  {
   "cell_type": "code",
   "execution_count": null,
   "id": "f67f13ab",
   "metadata": {},
   "outputs": [],
   "source": [
    "pd.set_option(\"display.max_colwidth\", -1)\n",
    "data_zao[data_zao['id_tt'] == 15970]"
   ]
  },
  {
   "cell_type": "code",
   "execution_count": null,
   "id": "ff4da040",
   "metadata": {},
   "outputs": [],
   "source": [
    "bad_types_stores_score['score'] = 0\n",
    "bad_types_stores_score.loc[bad_types_stores_score['id_tt_cl'] == 11309, 'score'] = 4.6\n",
    "bad_types_stores_score.loc[bad_types_stores_score['id_tt_cl'] == 11662, 'score'] = 4.4\n",
    "bad_types_stores_score.loc[bad_types_stores_score['id_tt_cl'] == 11888, 'score'] = 4.5\n",
    "bad_types_stores_score.loc[bad_types_stores_score['id_tt_cl'] == 11980, 'score'] = 4.4\n",
    "bad_types_stores_score.loc[bad_types_stores_score['id_tt_cl'] == 12004, 'score'] = 4.6\n",
    "bad_types_stores_score.loc[bad_types_stores_score['id_tt_cl'] == 12299, 'score'] = 4.5\n",
    "bad_types_stores_score.loc[bad_types_stores_score['id_tt_cl'] == 12326, 'score'] = 4.5\n",
    "bad_types_stores_score.loc[bad_types_stores_score['id_tt_cl'] == 12481, 'score'] = 4.5\n",
    "bad_types_stores_score.loc[bad_types_stores_score['id_tt_cl'] == 12834, 'score'] = 4.7\n",
    "bad_types_stores_score.loc[bad_types_stores_score['id_tt_cl'] == 13342, 'score'] = 5\n",
    "bad_types_stores_score.loc[bad_types_stores_score['id_tt_cl'] == 13429, 'score'] = 4.6\n",
    "bad_types_stores_score.loc[bad_types_stores_score['id_tt_cl'] == 15970, 'score'] = 5\n"
   ]
  },
  {
   "cell_type": "code",
   "execution_count": null,
   "id": "f8f0357f",
   "metadata": {},
   "outputs": [],
   "source": [
    "bad_types_stores_score"
   ]
  },
  {
   "cell_type": "code",
   "execution_count": null,
   "id": "14cb374f",
   "metadata": {},
   "outputs": [],
   "source": [
    "bad_types_stores_score['score'].describe()"
   ]
  },
  {
   "cell_type": "code",
   "execution_count": null,
   "id": "661ff4c9",
   "metadata": {},
   "outputs": [],
   "source": [
    "good_types_stores_score['score'].describe()"
   ]
  },
  {
   "cell_type": "code",
   "execution_count": null,
   "id": "3c424089",
   "metadata": {},
   "outputs": [],
   "source": [
    "good_types_stores_score"
   ]
  },
  {
   "cell_type": "code",
   "execution_count": null,
   "id": "d709c6e9",
   "metadata": {},
   "outputs": [],
   "source": [
    "difference.head(3)"
   ]
  },
  {
   "cell_type": "code",
   "execution_count": null,
   "id": "5cfdd67d",
   "metadata": {},
   "outputs": [],
   "source": [
    "good_types_stores_score.head(3)"
   ]
  },
  {
   "cell_type": "code",
   "execution_count": null,
   "id": "04baac9c",
   "metadata": {},
   "outputs": [],
   "source": [
    "good_shops_data_may = data_may.loc[data_may['id_tt'].isin(good_types_stores_score['id_tt_cl'])] \n",
    "good_shops_data_may[\"part_of_good_tov\"] = False\n",
    "good_shops_data_may.loc[good_shops_data_may['id_tov'].isin(difference['id_tov']), 'part_of_good_tov'] = True\n",
    "good_shops_data_may.head(3)"
   ]
  },
  {
   "cell_type": "code",
   "execution_count": null,
   "id": "697a7b98",
   "metadata": {},
   "outputs": [],
   "source": [
    "good_shops_data_may['BaseSum'].sum()"
   ]
  },
  {
   "cell_type": "code",
   "execution_count": null,
   "id": "5f777319",
   "metadata": {},
   "outputs": [],
   "source": [
    "good_shops_data_may.loc[good_shops_data_may['part_of_good_tov'] == True]['BaseSum'].sum()/good_shops_data_may['BaseSum'].sum()*100"
   ]
  },
  {
   "cell_type": "code",
   "execution_count": null,
   "id": "76fd20ca",
   "metadata": {},
   "outputs": [],
   "source": [
    "good_shops_data_may.loc[good_shops_data_may['part_of_good_tov'] == True]['BaseSum'].sum()"
   ]
  },
  {
   "cell_type": "code",
   "execution_count": null,
   "id": "5457bdad",
   "metadata": {},
   "outputs": [],
   "source": [
    "good_shops_data_may['Quantity'].sum()"
   ]
  },
  {
   "cell_type": "code",
   "execution_count": null,
   "id": "714f75f7",
   "metadata": {},
   "outputs": [],
   "source": [
    "good_shops_data_may.loc[good_shops_data_may['part_of_good_tov'] == True]['Quantity'].sum()"
   ]
  },
  {
   "cell_type": "code",
   "execution_count": null,
   "id": "6108ec94",
   "metadata": {},
   "outputs": [],
   "source": [
    "good_shops_data_may.loc[good_shops_data_may['part_of_good_tov'] == True]['Quantity'].sum()/good_shops_data_may['Quantity'].sum()*100"
   ]
  },
  {
   "cell_type": "code",
   "execution_count": null,
   "id": "eba77a1a",
   "metadata": {},
   "outputs": [],
   "source": [
    "good_shops_data_may.loc[good_shops_data_may['part_of_good_tov'] == True].count()"
   ]
  },
  {
   "cell_type": "code",
   "execution_count": null,
   "id": "03ff3fa1",
   "metadata": {},
   "outputs": [],
   "source": [
    "percent_of_check = good_shops_data_may.loc[good_shops_data_may['part_of_good_tov'] == True]\n",
    "data_may_cheks = data_may.loc[data_may['CheckUID'].isin(percent_of_check['CheckUID'])]"
   ]
  },
  {
   "cell_type": "code",
   "execution_count": null,
   "id": "fcd54129",
   "metadata": {},
   "outputs": [],
   "source": [
    "data_may['CheckUID'].count()"
   ]
  },
  {
   "cell_type": "code",
   "execution_count": null,
   "id": "8a29734f",
   "metadata": {},
   "outputs": [],
   "source": [
    "data_may_cheks['CheckUID'].count()"
   ]
  },
  {
   "cell_type": "code",
   "execution_count": null,
   "id": "e892fc1d",
   "metadata": {},
   "outputs": [],
   "source": [
    "data_may_cheks['CheckUID'].count()/data_may['CheckUID'].count()*100"
   ]
  },
  {
   "cell_type": "code",
   "execution_count": null,
   "id": "0750d4f6",
   "metadata": {},
   "outputs": [],
   "source": [
    "data_may_cheks['BaseSum'].sum()"
   ]
  },
  {
   "cell_type": "code",
   "execution_count": null,
   "id": "1fd0012c",
   "metadata": {},
   "outputs": [],
   "source": [
    "data_may_cheks['BaseSum'].sum()/data_may['BaseSum'].sum()*100"
   ]
  }
 ],
 "metadata": {
  "kernelspec": {
   "display_name": "Python 3 (ipykernel)",
   "language": "python",
   "name": "python3"
  },
  "language_info": {
   "codemirror_mode": {
    "name": "ipython",
    "version": 3
   },
   "file_extension": ".py",
   "mimetype": "text/x-python",
   "name": "python",
   "nbconvert_exporter": "python",
   "pygments_lexer": "ipython3",
   "version": "3.9.7"
  }
 },
 "nbformat": 4,
 "nbformat_minor": 5
}
